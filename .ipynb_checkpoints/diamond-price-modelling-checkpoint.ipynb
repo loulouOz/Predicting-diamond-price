{
 "cells": [
  {
   "cell_type": "markdown",
   "metadata": {
    "_uuid": "f5b08921464bc1c9b3f8a77b6ffdca310d43d311"
   },
   "source": [
    "# Diamond Price Modelling\n",
    "\n",
    "This is my first ever machine learning project. I will be applying what I've learnt so far (since 2 weeks) on this data set.\n",
    "\n",
    "In this notebook, we will explore the factors that affect the price of a diamond with a goal of finding a model to help predict the price of diamonds.\n",
    "\n",
    "### Notice\n",
    "- The problem is requires **Supervised Learning**. The instances come with an expected output (*i.e* **the diamond's price**).\n",
    "- Predicting the price of a diamond from dataset is a **Regression Task**. More specifically, a **Multivariate Regression Task**.\n",
    "- We will be using the **Batch Learning** technique since the data is not live-fed from a source.\n",
    "- We will also be the **Root Mean Square Error (RMSE)** for our performance measure (typical for Regression tasks).\n",
    "\n",
    "**If you like this notebook, please up-vote! It keeps me motivated. Thank you! :)**"
   ]
  },
  {
   "cell_type": "code",
   "execution_count": 7,
   "metadata": {
    "_uuid": "180c544ff0cc8846a61727131110c16931531b66"
   },
   "outputs": [],
   "source": [
    "import pandas as pd\n",
    "import numpy as np\n",
    "import seaborn as sns\n",
    "import matplotlib.pyplot as plt\n",
    "\n",
    "import warnings\n",
    "warnings.filterwarnings(\"ignore\")\n",
    "\n",
    "%matplotlib inline\n",
    "\n",
    "# Load the diamond's dataset\n",
    "diamonds = pd.read_csv(\"./diamonds.csv\",index_col=0)"
   ]
  },
  {
   "cell_type": "markdown",
   "metadata": {
    "_uuid": "bacd95ae85187616786bcffab1ba86d18cca80f2"
   },
   "source": [
    "## Take a quick look at the Data Structure\n",
    "\n",
    "Let's take a quick look at our diamonds dataset."
   ]
  },
  {
   "cell_type": "code",
   "execution_count": 8,
   "metadata": {
    "_uuid": "fdc508bba54af545a29398b1ebdfa0abc07b280a"
   },
   "outputs": [
    {
     "data": {
      "text/html": [
       "<div>\n",
       "<style scoped>\n",
       "    .dataframe tbody tr th:only-of-type {\n",
       "        vertical-align: middle;\n",
       "    }\n",
       "\n",
       "    .dataframe tbody tr th {\n",
       "        vertical-align: top;\n",
       "    }\n",
       "\n",
       "    .dataframe thead th {\n",
       "        text-align: right;\n",
       "    }\n",
       "</style>\n",
       "<table border=\"1\" class=\"dataframe\">\n",
       "  <thead>\n",
       "    <tr style=\"text-align: right;\">\n",
       "      <th></th>\n",
       "      <th>carat</th>\n",
       "      <th>cut</th>\n",
       "      <th>color</th>\n",
       "      <th>clarity</th>\n",
       "      <th>depth</th>\n",
       "      <th>table</th>\n",
       "      <th>price</th>\n",
       "      <th>x</th>\n",
       "      <th>y</th>\n",
       "      <th>z</th>\n",
       "    </tr>\n",
       "  </thead>\n",
       "  <tbody>\n",
       "    <tr>\n",
       "      <th>1</th>\n",
       "      <td>0.23</td>\n",
       "      <td>Ideal</td>\n",
       "      <td>E</td>\n",
       "      <td>SI2</td>\n",
       "      <td>61.5</td>\n",
       "      <td>55.0</td>\n",
       "      <td>326</td>\n",
       "      <td>3.95</td>\n",
       "      <td>3.98</td>\n",
       "      <td>2.43</td>\n",
       "    </tr>\n",
       "    <tr>\n",
       "      <th>2</th>\n",
       "      <td>0.21</td>\n",
       "      <td>Premium</td>\n",
       "      <td>E</td>\n",
       "      <td>SI1</td>\n",
       "      <td>59.8</td>\n",
       "      <td>61.0</td>\n",
       "      <td>326</td>\n",
       "      <td>3.89</td>\n",
       "      <td>3.84</td>\n",
       "      <td>2.31</td>\n",
       "    </tr>\n",
       "    <tr>\n",
       "      <th>3</th>\n",
       "      <td>0.23</td>\n",
       "      <td>Good</td>\n",
       "      <td>E</td>\n",
       "      <td>VS1</td>\n",
       "      <td>56.9</td>\n",
       "      <td>65.0</td>\n",
       "      <td>327</td>\n",
       "      <td>4.05</td>\n",
       "      <td>4.07</td>\n",
       "      <td>2.31</td>\n",
       "    </tr>\n",
       "    <tr>\n",
       "      <th>4</th>\n",
       "      <td>0.29</td>\n",
       "      <td>Premium</td>\n",
       "      <td>I</td>\n",
       "      <td>VS2</td>\n",
       "      <td>62.4</td>\n",
       "      <td>58.0</td>\n",
       "      <td>334</td>\n",
       "      <td>4.20</td>\n",
       "      <td>4.23</td>\n",
       "      <td>2.63</td>\n",
       "    </tr>\n",
       "    <tr>\n",
       "      <th>5</th>\n",
       "      <td>0.31</td>\n",
       "      <td>Good</td>\n",
       "      <td>J</td>\n",
       "      <td>SI2</td>\n",
       "      <td>63.3</td>\n",
       "      <td>58.0</td>\n",
       "      <td>335</td>\n",
       "      <td>4.34</td>\n",
       "      <td>4.35</td>\n",
       "      <td>2.75</td>\n",
       "    </tr>\n",
       "  </tbody>\n",
       "</table>\n",
       "</div>"
      ],
      "text/plain": [
       "   carat      cut color clarity  depth  table  price     x     y     z\n",
       "1   0.23    Ideal     E     SI2   61.5   55.0    326  3.95  3.98  2.43\n",
       "2   0.21  Premium     E     SI1   59.8   61.0    326  3.89  3.84  2.31\n",
       "3   0.23     Good     E     VS1   56.9   65.0    327  4.05  4.07  2.31\n",
       "4   0.29  Premium     I     VS2   62.4   58.0    334  4.20  4.23  2.63\n",
       "5   0.31     Good     J     SI2   63.3   58.0    335  4.34  4.35  2.75"
      ]
     },
     "execution_count": 8,
     "metadata": {},
     "output_type": "execute_result"
    }
   ],
   "source": [
    "# Preview the top (five) rows of the dataset\n",
    "diamonds.head()"
   ]
  },
  {
   "cell_type": "markdown",
   "metadata": {
    "_uuid": "92c4db009c52f110efdf17d9c3f4ba7211c26b71"
   },
   "source": [
    "A little more information about our dataset."
   ]
  },
  {
   "cell_type": "code",
   "execution_count": null,
   "metadata": {
    "_uuid": "5ca1ebae61f1fd0037a1cdade95be2766c081be3"
   },
   "outputs": [],
   "source": [
    "# Preview the little information about dataset\n",
    "diamonds.info()"
   ]
  },
  {
   "cell_type": "markdown",
   "metadata": {
    "_uuid": "b9b541fe3a696f62d7a480a7690d18042068615f"
   },
   "source": [
    "Noticed an unnecessary column `Unnamed: 0`. It just acts as index, it is not needed, thus that needs to be dropped."
   ]
  },
  {
   "cell_type": "code",
   "execution_count": null,
   "metadata": {
    "_uuid": "8d6406a2fd677b96ddd4f638a49bfe7cf261795a"
   },
   "outputs": [],
   "source": [
    "# Drop the \"Unnamed: 0\" column\n",
    "diamonds = diamonds.drop(\"Unnamed: 0\", axis = 1)\n",
    "\n",
    "# Price is int64, best if all numeric attributes have the same datatype, especially as float64\n",
    "diamonds[\"price\"] = diamonds[\"price\"].astype(float)\n",
    "\n",
    "# Preview dataset again\n",
    "diamonds.head()"
   ]
  },
  {
   "cell_type": "markdown",
   "metadata": {
    "_uuid": "28560cb24e26e8cadd83899c3bbe730499505efa"
   },
   "source": [
    "There are **53490** instances in the dataset. There are also no missing instances in the dataset. *That looks clean!*\n",
    "\n",
    "It's easier to work a dataset when all its attributes are numerical. The **cut**, **color** and **clarity** attributes are non-numeric (They are *objects*). We still have to convert them to be numerical.\n",
    "\n",
    "Let's find out what categories exist for each of them."
   ]
  },
  {
   "cell_type": "code",
   "execution_count": null,
   "metadata": {
    "_uuid": "18c2df0783aac6512cd1c4985c03b15bd3b4779d"
   },
   "outputs": [],
   "source": [
    "# The diamond cut categories\n",
    "diamonds[\"cut\"].value_counts()"
   ]
  },
  {
   "cell_type": "code",
   "execution_count": null,
   "metadata": {
    "_uuid": "937d53114ca7312ab391d80d533115a9e3ead78f"
   },
   "outputs": [],
   "source": [
    "# The diamond color categories\n",
    "diamonds[\"color\"].value_counts()"
   ]
  },
  {
   "cell_type": "code",
   "execution_count": null,
   "metadata": {
    "_uuid": "33266c36ddfc6f454ff1591fa47d8275f605155b"
   },
   "outputs": [],
   "source": [
    "# The diamond clarity categories\n",
    "diamonds[\"clarity\"].value_counts()"
   ]
  },
  {
   "cell_type": "markdown",
   "metadata": {
    "_uuid": "df9b04fe7978d0bc962ed9104086a7092e623ff6"
   },
   "source": [
    "They each don't have so many categories, but still, we will be having a much longer table (*more columns*). That aside for now.\n",
    "\n",
    "Let's take a preview of the summary of the numerical attributes and then an histogram on the dataset."
   ]
  },
  {
   "cell_type": "code",
   "execution_count": null,
   "metadata": {
    "_uuid": "02e455ae818ba388e9d8857420d1cc012e1c32b7"
   },
   "outputs": [],
   "source": [
    "# Summary of each numerical attribute\n",
    "diamonds.describe()"
   ]
  },
  {
   "cell_type": "code",
   "execution_count": null,
   "metadata": {
    "_uuid": "8c8fe62b6ee8c4f430ba826f5b40ba47f278ea8a"
   },
   "outputs": [],
   "source": [
    "diamonds.hist(bins = 50, figsize = (20, 15))\n",
    "plt.show()"
   ]
  },
  {
   "cell_type": "markdown",
   "metadata": {
    "_uuid": "22fff7e34396e9e175fb8166622a5cb6666587ec"
   },
   "source": [
    "Okay good! But what about the categorical attributes? What happens to them now? We are still going to make out a solution for them. But there's also something important we have to do and that is **\"Creating a Test Set\"**.\n",
    "\n",
    "## Create a Test Set\n",
    "\n",
    "I've learnt it is a good practice to separate your **Train Set** and **Test Set** (80% and 20% from your dataset respectively). The Test set will make us see our model's performance on the new instances.\n",
    "\n",
    "That's clear! **But**, even though we want to do this, it doesn't feel right taking purely random samples of the dataset, else we could introduce a significant **Sampling Bias**. A good solution is by performing **Stratified Sampling**. The dataset will be divided into homogeneous subgroups called strata, and the right number of instances is sampled from each stratum to guarantee that the test set is representative of the overall dataset. (*Hopefully, that's clear enough*)\n",
    "\n",
    "To use this, we will need a very important attribute of the dataset to predict the of the diamond. How can we try select the attribute even though the team of those who gave you data didn't give you a clue? This is where we need to know the attributes that are most correlated to the price of the diamond. We use the **Standard Correlation Coefficient** (Pearson's r) to determine."
   ]
  },
  {
   "cell_type": "code",
   "execution_count": null,
   "metadata": {
    "_uuid": "66d1b01967ff318e41998140347f0e64c3699f60"
   },
   "outputs": [],
   "source": [
    "# Create a correlation matrix between every pair of attributes\n",
    "corr_matrix = diamonds.corr()\n",
    "\n",
    "# Plot the correlation with seaborn\n",
    "plt.subplots(figsize = (10, 8))\n",
    "sns.heatmap(corr_matrix, annot = True)\n",
    "plt.show()"
   ]
  },
  {
   "cell_type": "markdown",
   "metadata": {
    "_uuid": "064348bdcba07f7c3254590dff0716f5c0b8bd50"
   },
   "source": [
    "From the plot above, we could deduce that:\n",
    "- `x`, `y`, `z` have strong correlations with `price`\n",
    "- `carat` has the strongest correlation with `price` (0.92)\n",
    "- `table` and `depth` have the weakest correlations\n",
    "\n",
    "It is amazing so see that `carat` correlates best with price. Its score is pretty high! Now we use this for our *Stratified Sampling*.\n",
    "\n",
    "Let's take a closer look at the `carat`'s histogram."
   ]
  },
  {
   "cell_type": "code",
   "execution_count": null,
   "metadata": {
    "_uuid": "0c3f65261fe0ad33e7e6de34b797a6a83357016a"
   },
   "outputs": [],
   "source": [
    "diamonds[\"carat\"].hist(bins = 50)\n",
    "plt.show()"
   ]
  },
  {
   "cell_type": "markdown",
   "metadata": {
    "_uuid": "122aa7684963b30e097fb69a1fb01d953407c7fe"
   },
   "source": [
    "Most diamonds are roughly between 0.3 and 1.5 Carats. Let's divide them into 5 categories, with those more than the 5th category merging into the 5th category."
   ]
  },
  {
   "cell_type": "code",
   "execution_count": null,
   "metadata": {
    "_uuid": "953fac985d3903433dcdbe8c3461a53bdd251405"
   },
   "outputs": [],
   "source": [
    "# Divide the diamond carats by 0.4 to limit the number of carat categories\n",
    "# Round up to have discrete categories\n",
    "diamonds[\"carat_cat\"] = np.ceil(diamonds[\"carat\"] / 0.35)\n",
    "\n",
    "# Merge categories > 5 in 5\n",
    "diamonds[\"carat_cat\"].where(diamonds[\"carat_cat\"] < 5, 5.0, inplace = True)"
   ]
  },
  {
   "cell_type": "markdown",
   "metadata": {
    "_uuid": "427c6871fc50f77f4e52802a9c50d262f91f2c00"
   },
   "source": [
    "Now let's see how much the diamonds are distributed in relation to the carat categories."
   ]
  },
  {
   "cell_type": "code",
   "execution_count": null,
   "metadata": {
    "_uuid": "006117c7c255a67bf04e2cddbf3c331cb5694112"
   },
   "outputs": [],
   "source": [
    "# Check the distribution of the diamonds in the categories\n",
    "diamonds[\"carat_cat\"].value_counts()"
   ]
  },
  {
   "cell_type": "code",
   "execution_count": null,
   "metadata": {
    "_uuid": "dd3a2e755bc153a4f1bef07743bff3bbf8a2c88d"
   },
   "outputs": [],
   "source": [
    "diamonds[\"carat_cat\"].hist()\n",
    "plt.show()"
   ]
  },
  {
   "cell_type": "markdown",
   "metadata": {
    "_uuid": "c567a10b175c9e852152977ce62fbc391c16565a"
   },
   "source": [
    "The distribution looks nice enough.\n",
    "\n",
    "**PS:** I adjusted the divisor of `carat` until the distribution of the diamonds looked nice. *You could comment if you have any other ideas to doing this* :)\n",
    "\n",
    "And yup! We can now perform a Stratified Sampling based on the carat categories :) I will use Scikit-Learn's `StratifiedShuffleSplit` class."
   ]
  },
  {
   "cell_type": "code",
   "execution_count": null,
   "metadata": {
    "_uuid": "d0ce7cc61315fa40c13c16b608c031e34a3bd805"
   },
   "outputs": [],
   "source": [
    "# Import the sklearn module\n",
    "from sklearn.model_selection import StratifiedShuffleSplit\n",
    "\n",
    "# Run the split. Creates on split and shares 20% of the dataset for the test set\n",
    "split = StratifiedShuffleSplit(n_splits = 1, test_size = 0.2, random_state = 42)\n",
    "\n",
    "# Separate the stratified train set and the test set\n",
    "for train_index, test_index in split.split(diamonds, diamonds[\"carat_cat\"]):\n",
    "    strat_train_set = diamonds.loc[train_index]\n",
    "    strat_test_set = diamonds.loc[test_index]"
   ]
  },
  {
   "cell_type": "markdown",
   "metadata": {
    "_uuid": "99990d3d13318c1e7668fd8f5fd6a079a69e926a"
   },
   "source": [
    "We now have our Train set and Test set, both stratified. From here, we don't need the `carat_cat` anylonger, hence we can drop it."
   ]
  },
  {
   "cell_type": "code",
   "execution_count": null,
   "metadata": {
    "_uuid": "0824412c2142a18b74cb03f08ed939daeca7d024"
   },
   "outputs": [],
   "source": [
    "for set in (strat_train_set, strat_test_set):\n",
    "    set.drop([\"carat_cat\"], axis = 1, inplace = True)"
   ]
  },
  {
   "cell_type": "markdown",
   "metadata": {
    "_uuid": "e7bedf553477678764e1ff9b6f7ecae64365a49f"
   },
   "source": [
    "Our new `diamonds` dataset will now be the *Stratified Train set*."
   ]
  },
  {
   "cell_type": "code",
   "execution_count": null,
   "metadata": {
    "_uuid": "ab127b165b0a45d9123cb061ef4945df440733b7"
   },
   "outputs": [],
   "source": [
    "# Redefined diamonds dataset\n",
    "diamonds = strat_train_set.copy()\n",
    "diamonds.head()"
   ]
  },
  {
   "cell_type": "markdown",
   "metadata": {
    "_uuid": "3ebae8453d98ad9afe9d6669a7a713e9aa7c2c74"
   },
   "source": [
    "## Data Visualization\n",
    "\n",
    "Let's play around with some visualization of our dataset and make some observations out of it."
   ]
  },
  {
   "cell_type": "code",
   "execution_count": null,
   "metadata": {
    "_uuid": "4916b2ebc18f57a26907c189198bcb7f6a30aae8"
   },
   "outputs": [],
   "source": [
    "sns.pairplot(diamonds[[\"price\", \"carat\", \"cut\"]], hue = \"cut\", height = 5)\n",
    "plt.show()\n",
    "sns.barplot(x = \"carat\", y = \"cut\", data = diamonds)\n",
    "plt.show()\n",
    "sns.barplot(x = \"price\", y = \"cut\", data = diamonds)\n",
    "plt.show()"
   ]
  },
  {
   "cell_type": "markdown",
   "metadata": {
    "_uuid": "74b451953c77a976ebd96c3abdbdd0b1bcfdfc1f"
   },
   "source": [
    "`Fair` cuts are most weighed, but they aren't the most expensive diamonds. `Premium` cuts weigh less than the fair and then cost more. `Ideal` cuts weigh way less and they are least expensive. The cut therefore is relatively considered while determining the price of the diamond."
   ]
  },
  {
   "cell_type": "code",
   "execution_count": null,
   "metadata": {
    "_uuid": "2f816c19ae22e7873b391ba76c6448d5b57b1b0f",
    "scrolled": false
   },
   "outputs": [],
   "source": [
    "sns.pairplot(diamonds[[\"price\", \"carat\", \"color\"]], hue = \"color\", height = 5)\n",
    "plt.show()\n",
    "sns.barplot(x = \"carat\", y = \"color\", data = diamonds)\n",
    "plt.show()\n",
    "sns.barplot(x = \"price\", y = \"color\", data = diamonds)\n",
    "plt.show()"
   ]
  },
  {
   "cell_type": "markdown",
   "metadata": {
    "_uuid": "f7aa1e3012a301fd74d2c396b48b2632eb110bc7"
   },
   "source": [
    "Here, we could see that the color `J` which is the most weighed is also the most priced. The last 2 plots are very similar. We could see here that the color of the diamond is also very dependent on its price."
   ]
  },
  {
   "cell_type": "code",
   "execution_count": null,
   "metadata": {
    "_uuid": "ddb904fae99fd7e990ce9072074afa7b9efe81df",
    "scrolled": false
   },
   "outputs": [],
   "source": [
    "sns.pairplot(diamonds[[\"price\", \"carat\", \"clarity\"]], hue = \"clarity\", height = 5)\n",
    "plt.show()\n",
    "sns.barplot(x = \"carat\", y = \"clarity\", data = diamonds)\n",
    "plt.show()\n",
    "sns.barplot(x = \"price\", y = \"clarity\", data = diamonds)\n",
    "plt.show()"
   ]
  },
  {
   "cell_type": "markdown",
   "metadata": {
    "_uuid": "7abdddc6dc5a878259b57fbdd086e0eed6ecb31c"
   },
   "source": [
    "Here, we could see that `I1` doesn't hold the highest clarity, even though it is the most priced. But there's something else: Apart from `I1`, if the rest stays, the price of a diamond could **fairly** be relative to its clarity, to some extent."
   ]
  },
  {
   "cell_type": "code",
   "execution_count": null,
   "metadata": {
    "_uuid": "e67a08b347ec26b30a4df53983ed11581a9c1dc0"
   },
   "outputs": [],
   "source": [
    "from pandas.plotting import scatter_matrix\n",
    "\n",
    "attributes = [\"x\", \"y\", \"z\", \"table\", \"depth\", \"price\"]\n",
    "scatter_matrix(diamonds[attributes], figsize=(25, 20))\n",
    "plt.show()"
   ]
  },
  {
   "cell_type": "markdown",
   "metadata": {
    "_uuid": "badef2cfd2b351c95af73010ad9a11bb40f17a7f"
   },
   "source": [
    "These visualizations have been met by our theories during correlation. And it's very obvious here that depth and table have very weak correlation with price.\n",
    "\n",
    "## Feature Scaling\n",
    "\n",
    "With few exceptions, Machine Learning algrorithms don't perform well when the input numerical attributes have very different scales. We sure want our models to work well, so how can we go about it?\n",
    "\n",
    "Feature scaling can be done in 2 ways: **Min-max scaling** and **Standardization**. I would preferably use Standardization, because it is much less affected by outliers. Scikit-Learn provides a transformer called `StandardScaler` for this transformation.\n",
    "\n",
    "**PS:** You don't stratify your label, which is in our case `price`."
   ]
  },
  {
   "cell_type": "code",
   "execution_count": null,
   "metadata": {
    "_uuid": "ece416a8725491e86ec1e00cb3cd515fcf0f9e15",
    "scrolled": true
   },
   "outputs": [],
   "source": [
    "# Do not stratify the label\n",
    "diamonds = strat_train_set.drop(\"price\", axis = 1)\n",
    "\n",
    "# Set a new dataset label variable\n",
    "diamond_labels = strat_train_set[\"price\"].copy()\n",
    "\n",
    "# Drop all the category, so we could have only numeric\n",
    "diamonds_num = diamonds.drop([\"cut\", \"color\", \"clarity\"], axis = 1)\n",
    "diamonds_num.head()"
   ]
  },
  {
   "cell_type": "code",
   "execution_count": null,
   "metadata": {
    "_uuid": "3dd7e82c4188d721dabb731aa16b19ad6d61ed37"
   },
   "outputs": [],
   "source": [
    "from sklearn.preprocessing import StandardScaler\n",
    "\n",
    "# Perform the feature scaling on the numeric attributes of the dataset\n",
    "num_scaler = StandardScaler()\n",
    "diamonds_num_scaled = num_scaler.fit_transform(diamonds_num)\n",
    "\n",
    "# Preview \n",
    "pd.DataFrame(diamonds_num_scaled).head()"
   ]
  },
  {
   "cell_type": "markdown",
   "metadata": {
    "_uuid": "a21a62d81926067f07c205bee510a62f2f30659f"
   },
   "source": [
    "That is what our data *will* look like during its processing. That's for the Machine Learning algorithm.\n",
    "\n",
    "## Handling Categorical Attributes\n",
    "\n",
    "From above, we split the columns of our dataset, putting aside the category attributes. Remember we still wanted to convert these attributes to numericaal attributes. How to we go about this?\n",
    "\n",
    "We create one binary attribute per category: one attribute will be one while the rest will be 0. This is called **One-Hot Encoding**. Scikit-Learn provides a `OneHotEncoder` encoder to convert our category attributes to One-Hot vectors."
   ]
  },
  {
   "cell_type": "code",
   "execution_count": null,
   "metadata": {
    "_uuid": "14d4ba33d56062fd2086c713e03b39561675e6b5"
   },
   "outputs": [],
   "source": [
    "# We need only the category attributes to work with here\n",
    "diamonds_cat = diamonds[[\"cut\", \"color\", \"clarity\"]]\n",
    "diamonds_cat.head()"
   ]
  },
  {
   "cell_type": "code",
   "execution_count": null,
   "metadata": {
    "_uuid": "528d7257979f3d7fb4f785f4afce8ac64aca18f6"
   },
   "outputs": [],
   "source": [
    "from sklearn.preprocessing import OneHotEncoder\n",
    "\n",
    "# Perform the one-hot encoding on the category attributes of the dataset\n",
    "cat_encoder = OneHotEncoder()\n",
    "diamonds_cat_encoded = cat_encoder.fit_transform(diamonds_cat)\n",
    "\n",
    "# Convert the encoded categories to arrays and Preview\n",
    "pd.DataFrame(diamonds_cat_encoded.toarray()).head()"
   ]
  },
  {
   "cell_type": "markdown",
   "metadata": {
    "_uuid": "9ab065cef20b8f500eb9d1f1f6bbbeae2570787a"
   },
   "source": [
    "Now that's what I meant by a longer table. What do we do next?\n",
    "\n",
    "## Transformation Pipeline\n",
    "We have our tables reformed, what we do now to to merge the numeric feature scaled attributes and the encoded category attributes. An easy way to do this without writing so much like above is to Scikit-Learn's `ColumnTransformer` class. This merging provides a single pipeline for the whole dataset."
   ]
  },
  {
   "cell_type": "code",
   "execution_count": null,
   "metadata": {
    "_uuid": "7de87ca8ba09353c9860291435633fc5c1e11f09"
   },
   "outputs": [],
   "source": [
    "from sklearn.compose import ColumnTransformer\n",
    "\n",
    "num_attribs = list(diamonds_num)\n",
    "cat_attribs = [\"cut\", \"color\", \"clarity\"]\n",
    "\n",
    "# Pipeline to transform our dataset\n",
    "pipeline = ColumnTransformer([\n",
    "    (\"num\", StandardScaler(), num_attribs), # Perform feaured scaling on numeric attributes\n",
    "    (\"cat\", OneHotEncoder(), cat_attribs) # Perform One-Hot encoding on the category attributes\n",
    "])"
   ]
  },
  {
   "cell_type": "code",
   "execution_count": null,
   "metadata": {
    "_uuid": "b2443855264fe92b3d33654396cf89cfdec94cba"
   },
   "outputs": [],
   "source": [
    "# Transformed dataset to feed the ML Algorithm\n",
    "diamonds_ready = pipeline.fit_transform(diamonds)\n",
    "\n",
    "# Preview\n",
    "pd.DataFrame(diamonds_ready).head()"
   ]
  },
  {
   "cell_type": "markdown",
   "metadata": {
    "_uuid": "3826371ab3c449e4e08cc745306d1969ade0f730"
   },
   "source": [
    "We now have our newly transformed dataset that can easily be fed to our Machine Learning Algorithms.\n",
    "\n",
    "## Select and Train Model\n",
    "\n",
    "We will create one function that will run through each algorithm. We'll also have variables that hold results of the algorithms for future comparisons. What does our fat function do?\n",
    "\n",
    "- Fits the dataset into the model and create series of predictions to compare with labels. We check its performance with the **RMSE**.\n",
    "\n",
    "- Performs some evaluation using Cross validation, which splits the training set into a number of CVs and train the model on the smaller sets. We then compare its mean with our intial RMSE.\n",
    "\n",
    "- We view how well the model performs on our test set and compare its RMSE with that of the train set. Hopefully we don't have much difference.\n",
    "\n",
    "- Some accuracy test of the model on the dataset is being evaluated\n",
    "\n",
    "- We could also have a preview of what's going on. Some parts of the test set will be selected and then the model will run on them and we can then compare its result with the expected prices.\n",
    "\n",
    "- We also get a preview this model's plot results and see how well it fits"
   ]
  },
  {
   "cell_type": "code",
   "execution_count": null,
   "metadata": {
    "_uuid": "d6882945f964ff249494667b647de6974a8cf3f6"
   },
   "outputs": [],
   "source": [
    "from sklearn.metrics import mean_squared_error\n",
    "from sklearn.model_selection import cross_val_score\n",
    "from random import randint\n",
    "\n",
    "# Our test set\n",
    "\n",
    "# Remove label from test set\n",
    "X_test = strat_test_set.drop(\"price\", axis = 1)\n",
    "# Have label stand alone\n",
    "y_test = strat_test_set[\"price\"].copy()\n",
    "\n",
    "# Our models performance holder\n",
    "models_rmse = [] # Holds Models original RMSE\n",
    "cvs_rmse_mean = [] # Holds the Cross Validation RMSE Mean\n",
    "tests_rmse = [] # Holds the tests RMSE\n",
    "tests_accuracy = [] # Holds the tests accuracy\n",
    "models = [] # Holds the models name\n",
    "\n",
    "def display_model_performance(model_name, model, diamonds = diamonds_ready, labels = diamond_labels,\n",
    "                              models_rmse = models_rmse, cvs_rmse_mean = cvs_rmse_mean, tests_rmse = tests_rmse,\n",
    "                              tests_accuracy = tests_accuracy, pipeline = pipeline, X_test = X_test,\n",
    "                              y_test = y_test, cv = True):\n",
    "    # Fit dataset in model\n",
    "    model.fit(diamonds, labels)\n",
    "    \n",
    "    # Setup predictions\n",
    "    predictions = model.predict(diamonds)\n",
    "    \n",
    "    # Get models performance\n",
    "    model_mse = mean_squared_error(labels, predictions)\n",
    "    model_rmse = np.sqrt(model_mse)\n",
    "    \n",
    "    # Cross validation\n",
    "    cv_score = cross_val_score(model, diamonds, labels, scoring = \"neg_mean_squared_error\", cv = 10)\n",
    "    cv_rmse = np.sqrt(-cv_score)\n",
    "    cv_rmse_mean = cv_rmse.mean()\n",
    "    \n",
    "    print(\"RMSE: %.4f\" %model_rmse)\n",
    "    models_rmse.append(model_rmse)\n",
    "    \n",
    "    print(\"CV-RMSE: %.4f\" %cv_rmse_mean)\n",
    "    cvs_rmse_mean.append(cv_rmse_mean)\n",
    "    \n",
    "    print(\"--- Test Performance ---\")\n",
    "    \n",
    "    X_test_prepared = pipeline.transform(X_test)\n",
    "    \n",
    "    # Fit test dataset in model\n",
    "    model.fit(X_test_prepared, y_test)\n",
    "    \n",
    "    # Setup test predictions\n",
    "    test_predictions = model.predict(X_test_prepared)\n",
    "    \n",
    "    # Get models performance on test\n",
    "    test_model_mse = mean_squared_error(y_test, test_predictions)\n",
    "    test_model_rmse = np.sqrt(test_model_mse)\n",
    "    print(\"RMSE: %.4f\" %test_model_rmse)\n",
    "    tests_rmse.append(test_model_rmse)\n",
    "    \n",
    "    # Tests accuracy\n",
    "    test_accuracy = round(model.score(X_test_prepared, y_test) * 100, 2)\n",
    "    print(\"Accuracy:\", str(test_accuracy)+\"%\")\n",
    "    tests_accuracy.append(test_accuracy)\n",
    "    \n",
    "    # Check how well model works on Test set by comparing prices\n",
    "    start = randint(1, len(y_test))\n",
    "    some_data = X_test.iloc[start:start + 7]\n",
    "    some_labels = y_test.iloc[start:start + 7]\n",
    "    some_data_prepared = pipeline.transform(some_data)\n",
    "    print(\"Predictions:\\t\", model.predict(some_data_prepared))\n",
    "    print(\"Labels:\\t\\t\", list(some_labels))\n",
    "    \n",
    "    models.append(model_name)\n",
    "    \n",
    "    # Preview plot\n",
    "    plt.scatter(diamond_labels, model.predict(diamonds_ready))\n",
    "    plt.xlabel(\"Actual\")\n",
    "    plt.ylabel(\"Predicted\")\n",
    "    x_lim = plt.xlim()\n",
    "    y_lim = plt.ylim()\n",
    "    plt.plot(x_lim, y_lim, \"k--\")\n",
    "    plt.show()\n",
    "    \n",
    "    print(\"------- Test -------\")\n",
    "    plt.scatter(y_test, model.predict(X_test_prepared))\n",
    "    plt.xlabel(\"Actual\")\n",
    "    plt.ylabel(\"Predicted\")\n",
    "    plt.plot(x_lim, y_lim, \"k--\")\n",
    "    plt.show()"
   ]
  },
  {
   "cell_type": "markdown",
   "metadata": {
    "_uuid": "e6f32db1c13280f1c54c954b897120ce18682d84"
   },
   "source": [
    "We can now start fitting models and get their performance error. Remember we are using **Root Mean Squared Error** for our performance measure.\n",
    "\n",
    "Let's start with the easiest model - `Linear Regression`"
   ]
  },
  {
   "cell_type": "markdown",
   "metadata": {
    "_uuid": "bac23b587246aaf6775095ae1f6324fab64024b8"
   },
   "source": [
    "### Linear Regression"
   ]
  },
  {
   "cell_type": "code",
   "execution_count": null,
   "metadata": {
    "_uuid": "0c8c9171ceb6868c8d1c5dcb2319b2f86aa6462a"
   },
   "outputs": [],
   "source": [
    "from sklearn.linear_model import LinearRegression\n",
    "\n",
    "lin_reg = LinearRegression(normalize = True)\n",
    "display_model_performance(\"Linear Regression\", lin_reg)"
   ]
  },
  {
   "cell_type": "markdown",
   "metadata": {
    "_uuid": "938e0510394f768bb6dfdbdffc899e87debbdcb4"
   },
   "source": [
    "### Decision Tree Regression"
   ]
  },
  {
   "cell_type": "code",
   "execution_count": null,
   "metadata": {
    "_uuid": "eeaddc06d8c2db4ad0c6ed71c8060931f0eaa83a"
   },
   "outputs": [],
   "source": [
    "from sklearn.tree import DecisionTreeRegressor\n",
    "\n",
    "tree_reg = DecisionTreeRegressor(random_state = 42)\n",
    "display_model_performance(\"Decision Tree Regression\", tree_reg)"
   ]
  },
  {
   "cell_type": "markdown",
   "metadata": {
    "_uuid": "769bd7f2b126b42af35c29a0c516e500bb4c5c43"
   },
   "source": [
    "### Random Forest Regression"
   ]
  },
  {
   "cell_type": "code",
   "execution_count": null,
   "metadata": {
    "_uuid": "2bd6e31f57bf170093f7c53ff9fe74e4569376ee"
   },
   "outputs": [],
   "source": [
    "from sklearn.ensemble import RandomForestRegressor\n",
    "\n",
    "forest_reg = RandomForestRegressor(n_estimators = 10, random_state = 42)\n",
    "display_model_performance(\"Random Forest Regression\", forest_reg)"
   ]
  },
  {
   "cell_type": "markdown",
   "metadata": {
    "_uuid": "4b633325879c964bec93a3562d790f9679cd95b5"
   },
   "source": [
    "### Ridge Regression"
   ]
  },
  {
   "cell_type": "code",
   "execution_count": null,
   "metadata": {
    "_uuid": "2ddd77db28061fbdcfe488382cefb4466131d2a8"
   },
   "outputs": [],
   "source": [
    "from sklearn.linear_model import Ridge\n",
    "\n",
    "ridge_reg = Ridge(normalize = True)\n",
    "display_model_performance(\"Ridge Regression\", ridge_reg)"
   ]
  },
  {
   "cell_type": "markdown",
   "metadata": {
    "_uuid": "dd96dc244455260d76df206219a446fac019b2c9"
   },
   "source": [
    "### Lasso Regression"
   ]
  },
  {
   "cell_type": "code",
   "execution_count": null,
   "metadata": {
    "_uuid": "0e4996ab2102ab9b466e1739dd86ba73bf8f9d77"
   },
   "outputs": [],
   "source": [
    "from sklearn.linear_model import Lasso\n",
    "\n",
    "lasso_reg = Lasso(normalize = True)\n",
    "display_model_performance(\"Lasso Regression\", lasso_reg)"
   ]
  },
  {
   "cell_type": "markdown",
   "metadata": {
    "_uuid": "ab4e6eef934986706904e75c3b8de8fcaf9048e4"
   },
   "source": [
    "### Elastic Net Regression"
   ]
  },
  {
   "cell_type": "code",
   "execution_count": null,
   "metadata": {
    "_uuid": "590c2f08a9a20881f314f70edf8357b3e2ab87e1"
   },
   "outputs": [],
   "source": [
    "from sklearn.linear_model import ElasticNet\n",
    "\n",
    "net_reg = ElasticNet()\n",
    "display_model_performance(\"Elastic Net Regression\", net_reg)"
   ]
  },
  {
   "cell_type": "markdown",
   "metadata": {
    "_uuid": "26ade22b38261f84bf1dba9af99a69e3b5adf416"
   },
   "source": [
    "### AdaBoost Regression"
   ]
  },
  {
   "cell_type": "code",
   "execution_count": null,
   "metadata": {
    "_uuid": "def894407aa834e7faf3df2db8574674a88309cb"
   },
   "outputs": [],
   "source": [
    "from sklearn.ensemble import AdaBoostRegressor\n",
    "\n",
    "ada_reg = AdaBoostRegressor(n_estimators = 100)\n",
    "display_model_performance(\"AdaBoost Regression\", ada_reg)"
   ]
  },
  {
   "cell_type": "markdown",
   "metadata": {
    "_uuid": "cb48f648e2b612e6c05d63222acc79675bfb6075"
   },
   "source": [
    "### GradientBoosting Regression"
   ]
  },
  {
   "cell_type": "code",
   "execution_count": null,
   "metadata": {
    "_uuid": "9eec5d163eba4e5344739f07df114687893cb698"
   },
   "outputs": [],
   "source": [
    "from sklearn.ensemble import GradientBoostingRegressor\n",
    "\n",
    "grad_reg = GradientBoostingRegressor(n_estimators = 100, learning_rate = 0.1,\n",
    "                                     max_depth = 1, random_state = 42, loss = 'ls')\n",
    "display_model_performance(\"GradientBoosting Regression\", grad_reg)"
   ]
  },
  {
   "cell_type": "markdown",
   "metadata": {
    "_uuid": "797e4a0019d413398e7d962844167fb9d5052350"
   },
   "source": [
    "## Compare Models Performance"
   ]
  },
  {
   "cell_type": "code",
   "execution_count": null,
   "metadata": {
    "_uuid": "1eec5efd735edaed648f07a1b7bbaf1fd8710d38"
   },
   "outputs": [],
   "source": [
    "compare_models = pd.DataFrame({ \"Algorithms\": models, \"Models RMSE\": models_rmse, \"CV RMSE Mean\": cvs_rmse_mean,\n",
    "                              \"Tests RMSE\": tests_rmse, \"Tests Accuracy\": tests_accuracy })\n",
    "compare_models.sort_values(by = \"Tests Accuracy\", ascending = False)"
   ]
  },
  {
   "cell_type": "markdown",
   "metadata": {
    "_uuid": "ab9ecea7bda47eb25adc95d6e5d138e9547db598"
   },
   "source": [
    "Okay. I was really surprised seeing some **100% accuracy** from the `Decision Tree Regression `Model. That is just too perfect. Noticed that some dataset from the test set were selected and compared and that was just right!\n",
    "\n",
    "Another model that we could depend on is the `Random Forest Regression`. It works relatively fine in my opinion."
   ]
  },
  {
   "cell_type": "code",
   "execution_count": null,
   "metadata": {
    "_uuid": "463d2b08a2bd8e585e658c5ddc3101d702e7b9b2"
   },
   "outputs": [],
   "source": [
    "sns.barplot(x = \"Tests Accuracy\", y = \"Algorithms\", data = compare_models)\n",
    "plt.show()"
   ]
  },
  {
   "cell_type": "markdown",
   "metadata": {
    "_uuid": "a30b446781087a6ad229911016c768b215a56db6"
   },
   "source": [
    "## Save model"
   ]
  },
  {
   "cell_type": "code",
   "execution_count": null,
   "metadata": {
    "_uuid": "3609a8dab0ff7ae8128da67b35e760d2ea0c3db6"
   },
   "outputs": [],
   "source": [
    "import pickle\n",
    "\n",
    "with open('final_model.pkl', 'wb') as f:\n",
    "    pickle.dump(tree_reg, f)"
   ]
  },
  {
   "cell_type": "markdown",
   "metadata": {
    "_uuid": "a80f8f9cbd2390b91b442b6dd30c2617ac792e08"
   },
   "source": [
    "## Conclusion\n",
    "\n",
    "The **Decision Tree Algorithm** wins it all here!\n",
    "\n",
    "What do you think about the deduced model? Could it really be? Please comment your opinions.\n",
    "\n",
    "That's all for now. I'm still learning, so I would love some feedback!\n",
    "\n",
    "**If you find this notebook useful, Please upvote this notebook it keeps me motivated.** Also I do look forward to suggestions, so please comment if any. Thank you!"
   ]
  }
 ],
 "metadata": {
  "kernelspec": {
   "display_name": "Python 3",
   "language": "python",
   "name": "python3"
  },
  "language_info": {
   "codemirror_mode": {
    "name": "ipython",
    "version": 3
   },
   "file_extension": ".py",
   "mimetype": "text/x-python",
   "name": "python",
   "nbconvert_exporter": "python",
   "pygments_lexer": "ipython3",
   "version": "3.9.0"
  }
 },
 "nbformat": 4,
 "nbformat_minor": 1
}
